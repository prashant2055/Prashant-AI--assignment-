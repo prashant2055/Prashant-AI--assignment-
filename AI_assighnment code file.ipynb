{
 "cells": [
  {
   "cell_type": "code",
   "execution_count": 1,
   "id": "63e81183",
   "metadata": {},
   "outputs": [
    {
     "name": "stdout",
     "output_type": "stream",
     "text": [
      "Ontology loaded successfully!\n"
     ]
    },
    {
     "name": "stderr",
     "output_type": "stream",
     "text": [
      "\n",
      "Warning: SQLite3 version 3.40.0 and 3.41.2 have huge performance regressions; please install version 3.41.1 or 3.42!\n",
      "\n"
     ]
    }
   ],
   "source": [
    "# Import necessary libraries\n",
    "from owlready2 import *\n",
    "from tkinter import *\n",
    "from tkinter import messagebox\n",
    "\n",
    "# Load the ontology\n",
    "try:\n",
    "    onto = get_ontology(\"/Users/mohankc/Desktop/ontology.rdf\").load()\n",
    "    print(\"Ontology loaded successfully!\")\n",
    "except Exception as e:\n",
    "    print(\"Error loading ontology:\", e)"
   ]
  },
  {
   "cell_type": "code",
   "execution_count": 2,
   "id": "00436de4",
   "metadata": {},
   "outputs": [],
   "source": [
    "# Fetch problems dynamically\n",
    "def get_problems():\n",
    "    return list(onto.Problem.instances())\n",
    "\n",
    "# Search problems based on user input\n",
    "def search_problems(search_text):\n",
    "    search_text = search_text.lower()\n",
    "    all_problems = get_problems()\n",
    "    filtered = [p for p in all_problems if search_text in p.name.lower()]\n",
    "    return filtered\n",
    "\n",
    "# Fetch solution and feedback\n",
    "def get_solution_and_feedback(problem_name):\n",
    "    for problem in onto.Problem.instances():\n",
    "        if problem.name == problem_name:\n",
    "            # Fetch the solution (if it exists)\n",
    "            solution = problem.hasSolution[0] if problem.hasSolution else None\n",
    "\n",
    "            # Fetch the feedback (if solution exists and givesFeedback property exists)\n",
    "            feedback = solution.givesFeedback[0] if solution and solution.givesFeedback else None\n",
    "\n",
    "            return (\n",
    "                solution.name if solution else \"No Solution Found\",\n",
    "                feedback.name if feedback else \"No Feedback Available\"\n",
    "            )\n",
    "    return \"No Solution Found\", \"No Feedback Available\"\n"
   ]
  },
  {
   "cell_type": "code",
   "execution_count": 3,
   "id": "0edead9b",
   "metadata": {},
   "outputs": [
    {
     "name": "stdout",
     "output_type": "stream",
     "text": [
      "[ontology.Problem1]\n",
      "[ontology.Problem1]\n",
      "Solution: Solution1\n",
      "Feedback: PositiveFeedback1\n"
     ]
    }
   ],
   "source": [
    "print(get_problems())  # Check if problems load correctly\n",
    "\n",
    "print(search_problems(\"Problem1\"))  # Test searching for a specific problem\n",
    "\n",
    "solution, feedback = get_solution_and_feedback(\"Problem1\")\n",
    "print(\"Solution:\", solution)\n",
    "print(\"Feedback:\", feedback)\n"
   ]
  },
  {
   "cell_type": "code",
   "execution_count": 4,
   "id": "183a0749",
   "metadata": {},
   "outputs": [],
   "source": [
    "# Display selected problem details\n",
    "def display_problem_details():\n",
    "    selected = listbox.get(ACTIVE)\n",
    "    if not selected:\n",
    "        messagebox.showwarning(\"Selection Error\", \"Please select a problem!\")\n",
    "        return\n",
    "    \n",
    "    solution, feedback = get_solution_and_feedback(selected)\n",
    "    solution_label.config(text=f\"Solution: {solution}\")\n",
    "    feedback_label.config(text=f\"Feedback: {feedback}\")\n",
    "\n",
    "# Search and display problems\n",
    "def search_and_display():\n",
    "    search_text = search_entry.get()\n",
    "    listbox.delete(0, END)\n",
    "    results = search_problems(search_text)\n",
    "    if results:\n",
    "        for problem in results:\n",
    "            listbox.insert(END, problem.name)\n",
    "    else:\n",
    "        listbox.insert(END, \"No Problems Found\")\n",
    "\n",
    "# Load all problems\n",
    "def load_problems():\n",
    "    listbox.delete(0, END)\n",
    "    problems = get_problems()\n",
    "    for problem in problems:\n",
    "        listbox.insert(END, problem.name)\n"
   ]
  },
  {
   "cell_type": "code",
   "execution_count": null,
   "id": "60cc91c8",
   "metadata": {},
   "outputs": [],
   "source": [
    "# UI Setup\n",
    "root = Tk()\n",
    "root.title(\"Advanced Intelligent Tutoring System\")\n",
    "root.geometry(\"600x500\")\n",
    "\n",
    "# Header\n",
    "Label(root, text=\"Intelligent Tutoring System\", font=(\"Arial\", 16)).pack(pady=10)\n",
    "\n",
    "# Search Functionality\n",
    "Label(root, text=\"Search for Problems:\").pack()\n",
    "search_entry = Entry(root, width=40)\n",
    "search_entry.pack()\n",
    "Button(root, text=\"Search\", command=search_and_display).pack(pady=5)\n",
    "\n",
    "# Problem List\n",
    "Label(root, text=\"Select a Problem:\").pack()\n",
    "listbox = Listbox(root, width=60, height=10)\n",
    "listbox.pack()\n",
    "\n",
    "# Buttons for Problem Loading and Details\n",
    "Button(root, text=\"Load All Problems\", command=load_problems).pack(pady=5)\n",
    "Button(root, text=\"View Solution and Feedback\", command=display_problem_details).pack(pady=5)\n",
    "\n",
    "# Solution and Feedback Display\n",
    "solution_label = Label(root, text=\"Solution: \", wraplength=500, justify=\"left\")\n",
    "solution_label.pack(pady=10)\n",
    "\n",
    "feedback_label = Label(root, text=\"Feedback: \", wraplength=500, justify=\"left\")\n",
    "feedback_label.pack(pady=5)\n",
    "\n",
    "# Run the application\n",
    "root.mainloop()\n"
   ]
  },
  {
   "cell_type": "code",
   "execution_count": null,
   "id": "13516118",
   "metadata": {},
   "outputs": [],
   "source": []
  }
 ],
 "metadata": {
  "kernelspec": {
   "display_name": "Python 3 (ipykernel)",
   "language": "python",
   "name": "python3"
  },
  "language_info": {
   "codemirror_mode": {
    "name": "ipython",
    "version": 3
   },
   "file_extension": ".py",
   "mimetype": "text/x-python",
   "name": "python",
   "nbconvert_exporter": "python",
   "pygments_lexer": "ipython3",
   "version": "3.11.5"
  }
 },
 "nbformat": 4,
 "nbformat_minor": 5
}
